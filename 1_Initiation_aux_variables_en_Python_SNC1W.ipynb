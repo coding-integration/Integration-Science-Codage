{
  "cells": [
    {
      "cell_type": "markdown",
      "metadata": {
        "id": "view-in-github",
        "colab_type": "text"
      },
      "source": [
        "<a href=\"https://colab.research.google.com/github/coding-integration/Integration-Science-Codage/blob/main/1_Initiation_aux_variables_en_Python_SNC1W.ipynb\" target=\"_parent\"><img src=\"https://colab.research.google.com/assets/colab-badge.svg\" alt=\"Open In Colab\"/></a>"
      ]
    },
    {
      "cell_type": "markdown",
      "metadata": {
        "id": "h3IPI_RD1A_D"
      },
      "source": [
        "# Initiation aux variables en python <img src=\"https://i.imgur.com/qUSxW7s.png\" height=45 width=45 align=right>\n",
        "\n",
        "## Les objectifs d’apprentissage\n",
        "*  Utiliser Python pour afficher et obtenir des données\n",
        "*  Utiliser Python pour stocker des données dans des variables\n",
        "*  Utiliser Python pour effectuer des calculs et afficher les résultats\n",
        "*  Utiliser Python pour créer et utiliser des fonctions simples\n",
        "*  Explorer la relation entre la résistance (R - Ohms (Ω)),  l'intensité du courant (I - Ampères) et la tension/ la différence de potentiel (V - Volts) dans un circuit simple en série à l'aide de Python\n",
        "*  Explorer l'utilisation d'un ordinateur à carte unique (par exemple, le micro-contrôleur Micro:bit )\n",
        "\n",
        "## Les critères de réussite\n",
        "<p>Je sais que je réussis quand :</p>\n",
        "<ul>\n",
        "<li>Je peux lire du codage simple en Python et comprendre son objectif\n",
        "<li>Je peux modifier/utiliser le codage en Python pour calculer la résistance, la tension ou le courant en fonction du circuit considéré\n",
        "<li>Je peux utiliser Python pour explorer la consommation d'énergie d'une source d'énergie (par exemple, une pile) dans un circuit\n",
        "<li>Je peux construire et tester un circuit pour mesurer la tension en utilisant du codage en Python et un ordinateur à carte unique(par exemple, Micro: bit) \n",
        "</ul>\n",
        "\n",
        "---\n",
        "# Activité 1 : Python - Afficher et obtenir des données <img src=\"https://i.imgur.com/qUSxW7s.png\" height=45 width=45 align=right>\n",
        "---\n",
        "\n",
        "## La grande question : Comment les humains interagissent-ils avec les systèmes informatiques?\n",
        "\n",
        "Enregistrer votre réponses dans la zone de texte ci-dessous."
      ]
    },
    {
      "cell_type": "markdown",
      "metadata": {
        "id": "K1Vp5vkkT3Hr"
      },
      "source": []
    },
    {
      "cell_type": "markdown",
      "metadata": {
        "id": "PSr1tD6VUBI9"
      },
      "source": [
        "## Un concept de codage - **La sortie**\n",
        "\n",
        "**Python** comprend de nombreuses fonctionnalités intégrées, notamment la possibilité d'afficher la sortie.\n",
        "\n",
        "La fonction intégrée la plus courante pour afficher des informations à l'utilisateur est ;\n",
        "\n",
        "`print(\"Bonjour le monde !\")`\n",
        "\n",
        "L'instruction ci-dessus affichera les informations incluses entre guillemets doubles exactement telles qu'elles ont été fournies. Python peut également afficher des données numériques.\n",
        "\n",
        "Exécutez les blocs de code ci-dessous pour examiner comment vous pouvez afficher des données à l'aide de `print()`"
      ]
    },
    {
      "cell_type": "code",
      "execution_count": null,
      "metadata": {
        "id": "MVLvG3jL1htd"
      },
      "outputs": [],
      "source": [
        "print (\"La température est de\", 22,5, \"degrés Celsius\")"
      ]
    },
    {
      "cell_type": "code",
      "execution_count": null,
      "metadata": {
        "id": "J1070YJzlSs7"
      },
      "outputs": [],
      "source": [
        "print (\"L'addition de 2 fractions\", 1/4 + 3/4)"
      ]
    },
    {
      "cell_type": "markdown",
      "metadata": {
        "id": "PG4HW1x_mIof"
      },
      "source": [
        "\n",
        "Essayez l'instruction suivante en Python."
      ]
    },
    {
      "cell_type": "code",
      "execution_count": null,
      "metadata": {
        "id": "t3kds-EkmG6P"
      },
      "outputs": [],
      "source": [
        "Print (3+2)"
      ]
    },
    {
      "cell_type": "markdown",
      "metadata": {
        "id": "PAbuwaybmPPm"
      },
      "source": [
        "Vous avez probablement rencontré votre première erreur de codage. Ce type d'erreur est une erreur de syntaxe. Il s'agit essentiellement d'une violation du langage de programmation Python.\n",
        "\n",
        "Les instructions Python sont sensibles à la casse. La plupart des fonctions intégrées, comme print(), doivent être toutes en minuscules suivies de parenthèses. Les informations fournies entre parenthèses sont **l'entrée** de la fonction. Vous pouvez maintenant revenir en arrière et corriger votre erreur dans le code ci-dessus."
      ]
    },
    {
      "cell_type": "markdown",
      "metadata": {
        "id": "Bfw7P3inle1E"
      },
      "source": [
        "# Un concept de codage - **Les variables**\n",
        "\n",
        "Le codage implique souvent la gestion des données. Chaque élément de données peut être stocké dans une **variable**.\n",
        "\n",
        "Les variables sont des emplacements de stockage nommés. Les données à ces emplacements sont stockées et récupérées avec le codage.\n",
        "\n",
        "Python a plusieurs types de données qui peuvent être stockées, notamment :\n",
        "\n",
        "*   **Integer** (pour stocker des nombres entiers)\n",
        "*   **Float** - *flottant* (pour stocker des nombres réels écrits en notation décimale)\n",
        "*   **String** (pour stocker des données en format de suite de caractères)\n",
        "\n",
        "Essayons de créer des variables.  \n",
        "`name = \"Hydrogen\"`  \n",
        "`numéro_atomique = 1`  \n",
        "`point_de_fusion = -259.2`\n",
        "\n",
        "En sciences, nous utilisons souvent des variables entières pour compter les éléments et des variables flottantes pour enregistrer les mesures. \n",
        "\n",
        "Dans les leçons à venir, nous explorerons comment plusieurs mesures, telles qu'une série de valeurs de température au fil du temps, peuvent être stockées et analysées pour découvrir des modèles et des liens."
      ]
    },
    {
      "cell_type": "markdown",
      "metadata": {
        "id": "SFgTgOPYolmB"
      },
      "source": [
        "# Un concept de codage - **Les expressions mathématiques et la sortie formatée**\n",
        "\n",
        "Le codage n'est pas que des mathématiques, mais le codage est très efficace pour évaluer les expressions mathématiques. \n",
        "\n",
        "Dans cet exemple, nous déterminerons la distance qu'un véhicule peut parcourir sans faire le plein.\n",
        "\n",
        "[Guide de consommation de carburant 2022](https://www.rncan.gc.ca/efficacite-energetique/efficacite-energetique-transports-carburants-remplacement/guide-consommation-carburant/vehicules-plus-ecoenergetiques/21005)\n",
        "\n",
        "Regardons la consommation de carburant sur route d'une Mazda MX-5.  \n",
        "`consommation_de_carburant = 6.6`\n",
        "\n",
        "Les unités de consommation de carburant au Canada sont *L/100 km*.  \n",
        "La taille du réservoir de carburant sur une Mazda MX-5 est de 45L. Maintenant, stockons quelques **valeurs** dans des variables et utilisons-les dans le code.\n"
      ]
    },
    {
      "cell_type": "code",
      "execution_count": 3,
      "metadata": {
        "id": "zaqrEMe6qX-J"
      },
      "outputs": [],
      "source": [
        "consommation_de_carburant = 6.6\n",
        "taille_du_réservoir = 45"
      ]
    },
    {
      "cell_type": "code",
      "execution_count": null,
      "metadata": {
        "id": "qDx4Gfx4qcqi"
      },
      "outputs": [],
      "source": [
        "distance = taille_du_réservoir / consommation_de_carburant * 100\n",
        "print (distance)"
      ]
    },
    {
      "cell_type": "markdown",
      "metadata": {
        "id": "58txvHIlqzun"
      },
      "source": [
        "Pourquoi le **\\*** a-t-il été utilisé à la place du symbole **x** pour la multiplication ? La plupart des langages de programmation ont décidé de réserver le caractère **x** pour représenter une variable et de ne pas l'utiliser comme opérateur mathématique pour la multiplication.\n",
        "\n",
        "Voyons ce qui se passe si nous essayons d'utiliser le caractère **x** pour multiplier 2 valeurs."
      ]
    },
    {
      "cell_type": "code",
      "execution_count": null,
      "metadata": {
        "id": "7UGuTJIwrXhP"
      },
      "outputs": [],
      "source": [
        "3 x 2"
      ]
    },
    {
      "cell_type": "markdown",
      "metadata": {
        "id": "e9heIYQPrcPc"
      },
      "source": [
        "Encore une erreur de syntaxe. N'oubliez pas d'utiliser le * pour la multiplication et tout ira bien.\n",
        "\n",
        "Avez-vous également remarqué que la réponse se poursuivait pour de nombreuses décimales ? Nous pouvons arrondir la réponse lorsque nous imprimons la sortie en utilisant une technique appelée **f-strings** en Python. \n",
        "\n",
        "Voici un exemple pour notre calcul de distance ;\n",
        "\n",
        "`print(f\"L'autonomie du véhicule est de {distance} kilomètres.\")`\n"
      ]
    },
    {
      "cell_type": "code",
      "execution_count": null,
      "metadata": {
        "id": "WqORGIqrsUoG"
      },
      "outputs": [],
      "source": [
        "print (f\"L'autonomie du véhicule est de {distance} kilomètres.\")"
      ]
    },
    {
      "cell_type": "markdown",
      "metadata": {
        "id": "nWVDpiKosgzW"
      },
      "source": [
        "Ici, nous utilisons la fonction print() avec un **f** avant le texte entre guillemets doubles. Les crochets **{}** indiquent que nous voulons faire référence à une variable appelée `distance` dans la sortie.\n",
        "\n",
        "Lorsqu'une **f-string** est utilisée, les crochets sont utilisés comme espace réservé pour obtenir la valeur actuelle stockée dans la variable. Maintenant, nous allons arrondir la sortie à une seule décimale.\n",
        "\n",
        "`print (f\"L'autonomie du véhicule est de {distance:.1f} kilomètres.\")`"
      ]
    },
    {
      "cell_type": "code",
      "execution_count": null,
      "metadata": {
        "id": "iBy8RPkJtsHV"
      },
      "outputs": [],
      "source": [
        "print (f\"L'autonomie du véhicule est de {distance:.1f} kilomètres.\")"
      ]
    },
    {
      "cell_type": "markdown",
      "metadata": {
        "id": "6bu93OLgtw3_"
      },
      "source": [
        "## Conversion en miles par gallon (le système impérial)\n",
        "\n",
        "Nous convertissons de L/100km en mi/gal (impérial) en utilisant un ratio de conversion.\n",
        "\n",
        "Car cette tâche est très utile pour de nombreux scénarios, nous pouvons créer notre propre fonction en Python. \n",
        "\n",
        "##Un concept de codage : **Les fonctions**\n",
        "Une fonction est un groupe d'instructions utilisées pour réaliser plusieurs fois la même opération avec codage. La définition de la fonction reçoit un nom et le code pour effectuer la tâche. La fonction peut alors être appelée à partir du code principal avec des données d'entrée et le résultat est renvoyé.\n",
        "\n",
        "    def superficie(longueur, largeur):    \n",
        "       return longueur * largeur\n",
        "\n",
        "    print (superficie(5,3), \"mètres carrés\") # affiche 15 mètres carrés "
      ]
    },
    {
      "cell_type": "code",
      "execution_count": 6,
      "metadata": {
        "id": "vhNKsdYIx2qL"
      },
      "outputs": [],
      "source": [
        "def calculer_superficie(longueur, largeur):    \n",
        "   return longueur * largeur"
      ]
    },
    {
      "cell_type": "code",
      "execution_count": null,
      "metadata": {
        "id": "oxKjupp5x4iE"
      },
      "outputs": [],
      "source": [
        "superficie = calculer_superficie(5,3)\n",
        "print (f\"Las superficie est {superficie} mètres carrés.\")"
      ]
    },
    {
      "cell_type": "markdown",
      "metadata": {
        "id": "pyLENK1yyXK5"
      },
      "source": [
        "Trouvez *Conversions* sur ce [lien](https://www.rncan.gc.ca/efficacite-energetique/efficacite-energetique-transports-carburants-remplacement/vehicules-personnels/choisir-bon-vehicule/achat-dun-vehicule-electrique/explication-des-tableaux/21384?_gl=1*s3fg98*_ga*MTM5Nzg1MTU1Mi4xNjcxMzg2NzU0*_ga_C2N57Y7DX5*MTY3MTgyMTQ1NS4yLjAuMTY3MTgyMTQ1NS4wLjAuMA.) et examinez notre nouvelle fonction pour convertir de L/100 km en miles par gallon (mpg)\n",
        "\n",
        "Notez que nous n'utilisons pas le symbole **÷** pour la division. Pour diviser en Python, nous utilisons le caractère **/**.\n"
      ]
    },
    {
      "cell_type": "code",
      "execution_count": 8,
      "metadata": {
        "id": "hDsvTMgcyzg5"
      },
      "outputs": [],
      "source": [
        "def convertir_mpg(consommation_de_carburant):\n",
        "  mpg = 282.48 / consommation_de_carburant\n",
        "  return mpg "
      ]
    },
    {
      "cell_type": "markdown",
      "metadata": {
        "id": "OkNRQurhzQoC"
      },
      "source": [
        "Now we will use the function convert_mpg() to determine the mpg fuel rating for the vehicle."
      ]
    },
    {
      "cell_type": "code",
      "execution_count": null,
      "metadata": {
        "id": "Uxl90nofzXrV"
      },
      "outputs": [],
      "source": [
        "imp_consommation_de_carburant = convertir_mpg(consommation_de_carburant)\n",
        "print (f\"La consommation de carburant {imp_consommation_de_carburant:.1f} miles par gallon(impérial).\")"
      ]
    },
    {
      "cell_type": "markdown",
      "metadata": {
        "id": "maT4bkHCdIUh"
      },
      "source": [
        "##Un concept de codage : **L'entrée**\n",
        "Nous avons discuté des variables et de la sortie, mais nous n'avons pas examiné comment obtenir des données de l'utilisateur.\n",
        "\n",
        "Python fournit une fonction intégrée appelée `input()`  \n",
        "\n",
        "La fonction `input()` peut être utilisée pour demander à l'utilisateur les données requises. Une question peut être écrite comme l'argument de la fonction (entrée de la fonction).\n",
        "\n",
        "Par exemple,\n",
        "\n",
        "`nom = input(\"Comment appelez-vous ?\")`\n",
        "\n",
        "Ici, nous stockons la réponse de l'utilisateur dans une variable appelée `nom`."
      ]
    },
    {
      "cell_type": "code",
      "execution_count": null,
      "metadata": {
        "id": "8o3cPCOVd6En"
      },
      "outputs": [],
      "source": [
        "nom = input (\"Comment appelez-vous ? \")\n",
        "print (f\"Salut {nom}, préparez-vous à explorer des circuits en utilisant la loi d'Ohm.\")"
      ]
    },
    {
      "cell_type": "markdown",
      "metadata": {
        "id": "VkABiBHMeXgm"
      },
      "source": [
        "La fonction `input()` renverra toujours les données fournies au format de texte (string). Si nous souhaitons des données numériques telles que des mesures (float) ou des entiers (int), nous devrons utiliser les fonctions de conversion de données `float()` ou `int()` disponibles en Python.\n",
        "\n",
        "Regardons l'exemple précédent d'écoénergétiques des véhicules avec l'entrée de l'utilisateur."
      ]
    },
    {
      "cell_type": "markdown",
      "metadata": {
        "id": "T2m2WwwNe9PW"
      },
      "source": [
        "Sélectionnons un autre véhicule à partir de la [Guide de consommation de carburant 2022](https://www.rncan.gc.ca/efficacite-energetique/efficacite-energetique-transports-carburants-remplacement/guide-consommation-carburant/vehicules-plus-ecoenergetiques/21005).\n"
      ]
    },
    {
      "cell_type": "code",
      "execution_count": null,
      "metadata": {
        "id": "rg12e0UnfHDi"
      },
      "outputs": [],
      "source": [
        "nom_vehicule = input(\"Quelle est la marque et le modèle du véhicule ? \")"
      ]
    },
    {
      "cell_type": "code",
      "execution_count": null,
      "metadata": {
        "id": "6vEb1P2CfQ0V"
      },
      "outputs": [],
      "source": [
        "consommation_de_carburant = float(input(\"Quelle est la consommation de carburant (Route L/100 km) du véhicule ? \"))"
      ]
    },
    {
      "cell_type": "code",
      "execution_count": null,
      "metadata": {
        "id": "rpYnUwvcfgjZ"
      },
      "outputs": [],
      "source": [
        "taille_du_réservoir = float(input(\"Quelle est la taille du réservoir de carburant (L)? \"))"
      ]
    },
    {
      "cell_type": "code",
      "execution_count": null,
      "metadata": {
        "id": "cXOVOmTtfXod"
      },
      "outputs": [],
      "source": [
        "distance = taille_du_réservoir / consommation_de_carburant * 100\n",
        "print (f\"L'autonomie du véhicule est de {distance:.1f} kilomètres.\")"
      ]
    },
    {
      "cell_type": "markdown",
      "metadata": {
        "id": "xk35b3gX0enU"
      },
      "source": [
        "---\n",
        "# Activité 2: Le Python pour l'analyse des circuits électriques - Physique<img src=\"https://i.imgur.com/qUSxW7s.png\" height=45 width=45 align=right>\n",
        "---\n",
        "\n"
      ]
    },
    {
      "cell_type": "markdown",
      "metadata": {
        "id": "ohsyB0t62A_s"
      },
      "source": [
        "## La loi d'Ohm\n",
        "La loi d'Ohm stipule que la différence de potentiel (la tension), est directement proportionnelle au courant traversant un conducteur, à condition que toutes les conditions physiques et les températures restent constantes.\n",
        "\n",
        "| Unité électrique | Rôle dans le circuit                      | Symbole | Unité SI     |\n",
        "|---------------------|--------------------------------------|:------:|-------------|\n",
        "| Tension             | La pression qui déclenche le flux d'électrons |    V   |   Volt (V)  |\n",
        "| Résistance          | Empêche le flux d'électrons               |    R   |   Ohm (Ω)   |\n",
        "| Courant             | Le taux de flux d'électrons                |    I   | Ampère (A) |\n",
        "\n",
        "\n",
        "# ${I=\\frac{V}{R}}$\n",
        "\n",
        "# ${V=I  R}$\n",
        "\n",
        "# ${R=\\frac{V}{I}}$\n",
        "\n",
        "\n",
        "Avec une feuille de papier, utilisez n'importe quelle stratégie pour **calculer** le courant dans un circuit avec une pile **9 Volt** et une résistance **200 Ohm**.\n",
        "\n",
        "Enregistrer votre réponses dans la zone de texte ci-dessous."
      ]
    },
    {
      "cell_type": "markdown",
      "metadata": {
        "id": "NnY6HYctnGNA"
      },
      "source": [
        "*Réponse*: (Combien d'ampères ?) :"
      ]
    },
    {
      "cell_type": "markdown",
      "metadata": {
        "id": "LlicNV3enKRt"
      },
      "source": [
        "Utilisons nos connaissances de Python pour obtenir les données d'entrée et calculer et afficher le courant.\n",
        "\n",
        "Il manque une expression mathématique à la troisième ligne de code. Mettez à jour le code pour obtenir la bonne réponse pour le courant. Vérifiez votre réponse d'avant."
      ]
    },
    {
      "cell_type": "code",
      "execution_count": null,
      "metadata": {
        "id": "3rkSU-WunTLn"
      },
      "outputs": [],
      "source": [
        "tension = float(input(\"Tension (V) ? \"))\n",
        "résistance = float(input(\"Résistance (Ohms)? \"))\n",
        "courant = # Ajoutez la formule pour calculer le courant ici\n",
        "print (f\"Le courant dans le circuit est de {courant} ampères.\")\n"
      ]
    },
    {
      "cell_type": "markdown",
      "metadata": {
        "id": "q616vLkcn7te"
      },
      "source": [
        "Examinons un autre scénario.\n",
        "\n",
        "Le courant maximal pour une diode électroluminescente (DEL) est de 0,30 ampères. Si vous deviez connecter une batterie 6V à un circuit avec un DEL et une résistance, quelle taille de résistance faudrait-il utiliser ?\n",
        "\n",
        "Dans ce scénario, nous utiliserons la loi d'Ohm pour résoudre la résistance.\n"
      ]
    },
    {
      "cell_type": "code",
      "execution_count": null,
      "metadata": {
        "id": "yRegy1LTkj87"
      },
      "outputs": [],
      "source": [
        "# Ajoutez le bloc de code ici pour déterminer la taille de la résistance"
      ]
    },
    {
      "cell_type": "markdown",
      "metadata": {
        "id": "nS8wSgtepjel"
      },
      "source": [
        "---\n",
        "# Activité 3: Calculer la durée de vie d'une pile avec Python - Physique\n",
        "<img src=\"https://i.imgur.com/qUSxW7s.png\" height=45 width=45 align=right>\n",
        "\n",
        "Tout le monde aimerait que ses appareils portables durent très longtemps. Dans cette activité, nous utiliserons Python pour explorer la capacité de la pile.\n"
      ]
    },
    {
      "cell_type": "markdown",
      "metadata": {
        "id": "gpGU3FVFqXMl"
      },
      "source": [
        "\n",
        "Les piles peuvent fournir du courant pendant une durée limitée. La capacité de la pile est généralement mesurée en ampères-heures (Ah) ou en milliampères-heures (mAh).\n",
        "\n",
        "Recherchez la valeur en mAh d'une pile alcaline de 9 V."
      ]
    },
    {
      "cell_type": "code",
      "execution_count": null,
      "metadata": {
        "id": "Q0hMl4xBqePg"
      },
      "outputs": [],
      "source": [
        "capacite = float(input(\"Entrez la capacité de la pile 9V (mAh) \"))"
      ]
    },
    {
      "cell_type": "markdown",
      "metadata": {
        "id": "ilBgRkrxqlVx"
      },
      "source": [
        "Supposons que nous ayons une lampe de poche avec une pile 9V. Nous avons utilisé un multimètre numérique pour mesurer le courant circulant dans le circuit.\n",
        "\n",
        "Exécutez le code pour régler le courant à 0,035 Ampères."
      ]
    },
    {
      "cell_type": "code",
      "execution_count": null,
      "metadata": {
        "id": "jCtJqW9urC7b"
      },
      "outputs": [],
      "source": [
        "courant = float(input(\"Entrez le courant (A) \"))"
      ]
    },
    {
      "cell_type": "code",
      "execution_count": null,
      "metadata": {
        "id": "R2l-yH5IrOZM"
      },
      "outputs": [],
      "source": [
        "courant_ma = courant * 1000 # convertir le courant d'ampères en milliampères"
      ]
    },
    {
      "cell_type": "markdown",
      "metadata": {
        "id": "QGMULgCvpf6y"
      },
      "source": [
        "Maintenant, nous pouvons déterminer combien d'heures la lampe de poche fonctionnera avec une pile pleine.  \n"
      ]
    },
    {
      "cell_type": "code",
      "execution_count": null,
      "metadata": {
        "id": "ks8C5OsBrfMo"
      },
      "outputs": [],
      "source": [
        "# Durée de la pile = capacité de la pile (mAh) / courant (mA)\n",
        "duree_vie = capacite / courant_ma\n",
        "print (f\"La batterie durera {duree_vie:.1f} heures\")"
      ]
    },
    {
      "cell_type": "markdown",
      "metadata": {
        "id": "KWGw9rym5x3u"
      },
      "source": [
        "---\n",
        "# Renforcer votre apprentissages : Comment le courant change-t-il si la résistance (R) est réduite ?"
      ]
    },
    {
      "cell_type": "markdown",
      "source": [],
      "metadata": {
        "id": "qxhFvKnKfzGM"
      }
    },
    {
      "cell_type": "markdown",
      "metadata": {
        "id": "-1aP4h9IsJpB"
      },
      "source": [
        "# Des activités avec un ordinateur à carte unique - supplémentaire\n",
        "\n",
        "Appliquez le codage en Python avec les activités ci-dessous.\n",
        "\n",
        "## Unité D - Physique\n",
        "\n",
        "- [Vérification de la pile](https://drive.google.com/file/d/1jPZkZjSEYZYqtC_RMPCpTJPmy6UBHCMU/view?usp=sharing) - Dans cette activité, vous mesurerez la tension à l'aide d'une entrée analogique.\n",
        "\n",
        "## Unité B - Biologie\n",
        "\n",
        "- [Détection de la lumière](https://drive.google.com/file/d/1cA_MHygWbufTHsvvsgRtDuLbvCiHMlJy/view?usp=sharing) - Dans cette activité, vous utiliserez un Micro:bit et un capteur de lux pour mesurer la luminance.\n",
        "- [Smart Watering Kit](https://www.phidgets.com/education/learn/projects/plant-kit/introduction/) - Dans cette activité, vous utilisez un trousse Phidget pour mettre en place un système d'arrosage des plantes.\n",
        "\n",
        "\n",
        "\n",
        "\n",
        "Ressources:\n",
        "- [Micro:bit Python Editor](https://python.microbit.org/v/3)\n",
        "- [Microsoft MakeCode](https://makecode.phidgets.com/)\n",
        "\n",
        "[Phidgets WebUSB Control Panel](https://www.phidgets.com/controlpanel/)\n",
        "\n",
        "[Phidgets - Logics Academy](https://logicsacademy.com/phidgets/)\n",
        "\n",
        "Utilisez le code de réduction : **PhidgetsCSIntegration**\n"
      ]
    }
  ],
  "metadata": {
    "colab": {
      "provenance": [],
      "include_colab_link": true
    },
    "kernelspec": {
      "display_name": "Python 3.7.9 64-bit",
      "language": "python",
      "name": "python3"
    },
    "language_info": {
      "name": "python",
      "version": "3.7.9"
    },
    "vscode": {
      "interpreter": {
        "hash": "1f2ac25b4a6d870602abfa5d74e7d6f1ae274ba9e86645830384575c0e5c89f3"
      }
    }
  },
  "nbformat": 4,
  "nbformat_minor": 0
}
